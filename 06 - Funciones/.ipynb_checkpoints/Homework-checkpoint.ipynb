{
 "cells": [
  {
   "cell_type": "markdown",
   "id": "f5ab5d39",
   "metadata": {},
   "source": [
    "# Funciones "
   ]
  },
  {
   "cell_type": "markdown",
   "id": "8f807508",
   "metadata": {},
   "source": [
    "### 1) Crear una función que reciba un número como parámetro y devuelva si True si es primo y False si no lo es "
   ]
  },
  {
   "cell_type": "code",
   "execution_count": 7,
   "id": "a1f4fa9f",
   "metadata": {},
   "outputs": [
    {
     "data": {
      "text/plain": [
       "True"
      ]
     },
     "execution_count": 7,
     "metadata": {},
     "output_type": "execute_result"
    }
   ],
   "source": [
    "def isPrime(num):\n",
    "    if num < 2:\n",
    "        return False\n",
    "    prime = True\n",
    "    for i in range(2,num):\n",
    "        if((num % i) == 0):\n",
    "            prime = False\n",
    "            break\n",
    "    return prime\n",
    "isPrime(17)"
   ]
  },
  {
   "cell_type": "markdown",
   "id": "3984c878",
   "metadata": {},
   "source": [
    "### 2) Utilizando la función del punto 1, realizar otra función que reciba de parámetro una lista de números y devuelva sólo aquellos que son primos en otra lista "
   ]
  },
  {
   "cell_type": "code",
   "execution_count": 8,
   "id": "4df31448",
   "metadata": {},
   "outputs": [
    {
     "data": {
      "text/plain": [
       "[2, 3, 5, 7]"
      ]
     },
     "execution_count": 8,
     "metadata": {},
     "output_type": "execute_result"
    }
   ],
   "source": [
    "def onlyPrimes(lis):\n",
    "    return [i for i in lis if isPrime(i)]\n",
    "numeros = [1,2,3,4,5,6,7,8,9]\n",
    "onlyPrimes(numeros)"
   ]
  },
  {
   "cell_type": "markdown",
   "id": "0aee77d4",
   "metadata": {},
   "source": [
    "### 3) Crear una función que al recibir una lista de números, devuelva el que más se repite y cuántas veces lo hace. Si hay más de un \"más repetido\", que devuelva cualquiera "
   ]
  },
  {
   "cell_type": "code",
   "execution_count": 29,
   "id": "bb15fe50",
   "metadata": {},
   "outputs": [
    {
     "data": {
      "text/plain": [
       "4"
      ]
     },
     "execution_count": 29,
     "metadata": {},
     "output_type": "execute_result"
    }
   ],
   "source": [
    "def mostRepeated(lis):\n",
    "    num = {}\n",
    "    for i in set(lis):\n",
    "        num[lis.count(i)] = i\n",
    "    return num[max(num)]\n",
    "mostRepeated([1,2,3,4,4,4,5,5,6])"
   ]
  },
  {
   "cell_type": "markdown",
   "id": "c41c8de3",
   "metadata": {},
   "source": [
    "### 4) A la función del punto 3, agregar un parámetro más, que permita elegir si se requiere el menor o el mayor de los mas repetidos."
   ]
  },
  {
   "cell_type": "code",
   "execution_count": 32,
   "id": "82f20e26",
   "metadata": {},
   "outputs": [
    {
     "data": {
      "text/plain": [
       "5"
      ]
     },
     "execution_count": 32,
     "metadata": {},
     "output_type": "execute_result"
    }
   ],
   "source": [
    "def mostRepeated2(lis,most=True):\n",
    "    num = {}\n",
    "    for i in set(lis):\n",
    "        num[lis.count(i)] = i\n",
    "    if most:\n",
    "        return num[max(num)]\n",
    "    else:\n",
    "        num.pop(max(num))\n",
    "        return num.pop(max(num))\n",
    "mostRepeated2([1,2,3,4,4,4,5,5,6],False)"
   ]
  },
  {
   "cell_type": "markdown",
   "id": "37ba8ff2",
   "metadata": {},
   "source": [
    "### 5) Crear una función que convierta entre grados Celsius, Farenheit y Kelvin<br>\n",
    "Fórmula 1\t: (°C × 9/5) + 32 = °F<br>\n",
    "Fórmula 2\t: °C + 273.15 = °K<br>\n",
    "Debe recibir 3 parámetros: el valor, la medida de orígen y la medida de destino "
   ]
  },
  {
   "cell_type": "code",
   "execution_count": 4,
   "id": "a09235f7",
   "metadata": {},
   "outputs": [
    {
     "data": {
      "text/plain": [
       "-436.27"
      ]
     },
     "execution_count": 4,
     "metadata": {},
     "output_type": "execute_result"
    }
   ],
   "source": [
    "def converter(value,origin,destiny):\n",
    "    def c_2_f(c):\n",
    "        return (c * (9/5)) + 32\n",
    "    def c_2_k(c):\n",
    "        return c + 273.15\n",
    "    def k_2_c(k):\n",
    "        return k - 273.15\n",
    "    def f_2_c(f):\n",
    "        return (f - 32)*5/9\n",
    "    if origin == 'celsius':\n",
    "        if destiny == 'farenheit':\n",
    "            return c_2_f(value)\n",
    "        else:\n",
    "            return c_2_k(value)\n",
    "    elif origin == 'farenheit':\n",
    "        if destiny == 'celsius':\n",
    "            return f_2_c(value)\n",
    "        else:\n",
    "            return c_2_k(f_2_c(value))\n",
    "    else:\n",
    "        if destiny == 'celsius':\n",
    "            return k_2_c(value)\n",
    "        else:\n",
    "            return c_2_f(k_2_c(value))\n",
    "converter(13,'kelvin','farenheit')"
   ]
  },
  {
   "cell_type": "markdown",
   "id": "d498ef5a",
   "metadata": {},
   "source": [
    "### 6) Iterando una lista con los tres valores posibles de temperatura que recibe la función del punto 5, hacer un print para cada combinación de los mismos: "
   ]
  },
  {
   "cell_type": "code",
   "execution_count": 5,
   "id": "ca3c10e7",
   "metadata": {},
   "outputs": [
    {
     "name": "stdout",
     "output_type": "stream",
     "text": [
      "100 grados celsius equivalen a 212.0 grados farenheit\n",
      "100 grados celsius equivalen a 373.15 grados kelvin\n",
      "100 grados farenheit equivalen a 37.77777777777778 grados celsius\n",
      "100 grados farenheit equivalen a 310.92777777777775 grados kelvin\n",
      "100 grados kelvin equivalen a -173.14999999999998 grados celsius\n",
      "100 grados kelvin equivalen a -279.66999999999996 grados farenheit\n"
     ]
    }
   ],
   "source": [
    "def showTemp(temp):\n",
    "    units = ['celsius','farenheit','kelvin']\n",
    "    for i in units:\n",
    "        for j in units:\n",
    "            if i != j:\n",
    "                print(temp,'grados',i,'equivalen a',converter(temp,i,j),'grados',j)\n",
    "showTemp(100)"
   ]
  },
  {
   "cell_type": "markdown",
   "id": "27deadf7",
   "metadata": {},
   "source": [
    "### 7) Armar una función que devuelva el factorial de un número. Tener en cuenta que el usuario puede equivocarse y enviar de parámetro un número no entero o negativo "
   ]
  },
  {
   "cell_type": "code",
   "execution_count": 17,
   "id": "7367806d",
   "metadata": {},
   "outputs": [
    {
     "data": {
      "text/plain": [
       "5040"
      ]
     },
     "execution_count": 17,
     "metadata": {},
     "output_type": "execute_result"
    }
   ],
   "source": [
    "def factorial(num):\n",
    "    if type(num) != int or num < 0:\n",
    "        print('introduzca un numero entero positivo')\n",
    "    else:\n",
    "        fac = 1\n",
    "        while(num > 0):\n",
    "            fac = fac * num\n",
    "            num -= 1\n",
    "        return fac\n",
    "factorial(7)"
   ]
  }
 ],
 "metadata": {
  "kernelspec": {
   "display_name": "Python 3 (ipykernel)",
   "language": "python",
   "name": "python3"
  },
  "language_info": {
   "codemirror_mode": {
    "name": "ipython",
    "version": 3
   },
   "file_extension": ".py",
   "mimetype": "text/x-python",
   "name": "python",
   "nbconvert_exporter": "python",
   "pygments_lexer": "ipython3",
   "version": "3.10.7"
  }
 },
 "nbformat": 4,
 "nbformat_minor": 5
}
