{
 "cells": [
  {
   "cell_type": "markdown",
   "id": "b5e7be7b",
   "metadata": {},
   "source": [
    "# Flujos de control"
   ]
  },
  {
   "cell_type": "markdown",
   "id": "fd210b4a",
   "metadata": {},
   "source": [
    "### 1) Crear una variable que contenga un elemento del conjunto de números enteros y luego imprimir por pantalla si es mayor o menor a cero"
   ]
  },
  {
   "cell_type": "code",
   "execution_count": 1,
   "id": "7068f650",
   "metadata": {},
   "outputs": [
    {
     "name": "stdout",
     "output_type": "stream",
     "text": [
      "el numero es mayor a cero.\n"
     ]
    }
   ],
   "source": [
    "num = 3\n",
    "if(num > 0):\n",
    "    print('el numero es mayor a cero.')\n",
    "elif(num < 0):\n",
    "    print('el numero es menor a cero.')\n",
    "else:\n",
    "    print('el numero es igual a cero.')"
   ]
  },
  {
   "cell_type": "markdown",
   "id": "8c91fd7a",
   "metadata": {},
   "source": [
    "### 2) Crear dos variables y un condicional que informe si son del mismo tipo de dato "
   ]
  },
  {
   "cell_type": "code",
   "execution_count": 2,
   "id": "ee3d7ecf",
   "metadata": {},
   "outputs": [
    {
     "name": "stdout",
     "output_type": "stream",
     "text": [
      "las variables son de tipos distintos.\n"
     ]
    }
   ],
   "source": [
    "var = 'hola'\n",
    "var2 = 3\n",
    "if(type(var) == type(var2)):\n",
    "    print('las variables son del mismo tipo.')\n",
    "else:\n",
    "    print('las variables son de tipos distintos.')"
   ]
  },
  {
   "cell_type": "markdown",
   "id": "7e0b1f41",
   "metadata": {},
   "source": [
    "### 3) Para los valores enteros del 1 al 20, imprimir por pantalla si es par o impar "
   ]
  },
  {
   "cell_type": "code",
   "execution_count": 4,
   "id": "82ffe1d4",
   "metadata": {},
   "outputs": [
    {
     "name": "stdout",
     "output_type": "stream",
     "text": [
      "1 es impar\n",
      "2 es par\n",
      "3 es impar\n",
      "4 es par\n",
      "5 es impar\n",
      "6 es par\n",
      "7 es impar\n",
      "8 es par\n",
      "9 es impar\n",
      "10 es par\n",
      "11 es impar\n",
      "12 es par\n",
      "13 es impar\n",
      "14 es par\n",
      "15 es impar\n",
      "16 es par\n",
      "17 es impar\n",
      "18 es par\n",
      "19 es impar\n",
      "20 es par\n"
     ]
    }
   ],
   "source": [
    "for i in range(1,21):\n",
    "    if((i % 2) == 0):\n",
    "        print(i,'es par')\n",
    "    else:\n",
    "        print(i,'es impar')"
   ]
  },
  {
   "cell_type": "markdown",
   "id": "361224be",
   "metadata": {},
   "source": [
    "### 4) En un ciclo for mostrar para los valores entre 0 y 5 el resultado de elevarlo a la potencia igual a 3"
   ]
  },
  {
   "cell_type": "code",
   "execution_count": 5,
   "id": "8ac56b52",
   "metadata": {},
   "outputs": [
    {
     "name": "stdout",
     "output_type": "stream",
     "text": [
      "0\n",
      "1\n",
      "8\n",
      "27\n",
      "64\n",
      "125\n"
     ]
    }
   ],
   "source": [
    "for i in range(6):\n",
    "    print(i**3)"
   ]
  },
  {
   "cell_type": "markdown",
   "id": "e5f211c3",
   "metadata": {},
   "source": [
    "### 5) Crear una variable que contenga un número entero y realizar un ciclo for la misma cantidad de ciclos "
   ]
  },
  {
   "cell_type": "code",
   "execution_count": 6,
   "id": "868aed2b",
   "metadata": {},
   "outputs": [
    {
     "name": "stdout",
     "output_type": "stream",
     "text": [
      "0\n",
      "1\n",
      "2\n",
      "3\n",
      "4\n"
     ]
    }
   ],
   "source": [
    "count = 5\n",
    "for i in range(count):\n",
    "    print(i)"
   ]
  },
  {
   "cell_type": "markdown",
   "id": "ea283eb2",
   "metadata": {},
   "source": [
    "### 6) Utilizar un ciclo while para realizar el factorial de un número guardado en una variable, sólo si la variable contiene un número entero mayor a 0 "
   ]
  },
  {
   "cell_type": "code",
   "execution_count": 9,
   "id": "386468dd",
   "metadata": {},
   "outputs": [
    {
     "name": "stdout",
     "output_type": "stream",
     "text": [
      "120\n"
     ]
    }
   ],
   "source": [
    "num = 5\n",
    "factorial = 1\n",
    "while(num > 0):\n",
    "    factorial *= num\n",
    "    num-=1\n",
    "print(factorial)"
   ]
  },
  {
   "cell_type": "markdown",
   "id": "bc57bd4f",
   "metadata": {},
   "source": [
    "### 7) Crear un ciclo for dentro de un ciclo while "
   ]
  },
  {
   "cell_type": "code",
   "execution_count": 10,
   "id": "2bfbc406",
   "metadata": {},
   "outputs": [
    {
     "name": "stdout",
     "output_type": "stream",
     "text": [
      "while: 3 for: 0\n",
      "while: 3 for: 1\n",
      "while: 3 for: 2\n",
      "while: 3 for: 3\n",
      "while: 3 for: 4\n",
      "while: 2 for: 0\n",
      "while: 2 for: 1\n",
      "while: 2 for: 2\n",
      "while: 2 for: 3\n",
      "while: 2 for: 4\n",
      "while: 1 for: 0\n",
      "while: 1 for: 1\n",
      "while: 1 for: 2\n",
      "while: 1 for: 3\n",
      "while: 1 for: 4\n"
     ]
    }
   ],
   "source": [
    "count = 3\n",
    "while(count > 0):\n",
    "    for i in range(5):\n",
    "        print('while:',count,'for:',i)\n",
    "    count-=1"
   ]
  },
  {
   "cell_type": "markdown",
   "id": "a025c502",
   "metadata": {},
   "source": [
    "### 8) Crear un ciclo while dentro de un ciclo for "
   ]
  },
  {
   "cell_type": "code",
   "execution_count": 12,
   "id": "1adf3b3b",
   "metadata": {},
   "outputs": [
    {
     "name": "stdout",
     "output_type": "stream",
     "text": [
      "for: 0 while: 3\n",
      "for: 0 while: 2\n",
      "for: 0 while: 1\n",
      "for: 1 while: 3\n",
      "for: 1 while: 2\n",
      "for: 1 while: 1\n",
      "for: 2 while: 3\n",
      "for: 2 while: 2\n",
      "for: 2 while: 1\n",
      "for: 3 while: 3\n",
      "for: 3 while: 2\n",
      "for: 3 while: 1\n",
      "for: 4 while: 3\n",
      "for: 4 while: 2\n",
      "for: 4 while: 1\n"
     ]
    }
   ],
   "source": [
    "for i in range(5):\n",
    "    count = 3\n",
    "    while(count > 0):\n",
    "        print('for:',i,'while:',count)\n",
    "        count-=1"
   ]
  },
  {
   "cell_type": "markdown",
   "id": "ee1d57ae",
   "metadata": {},
   "source": [
    "### 9) Imprimir los números primos existentes entre 0 y 30 "
   ]
  },
  {
   "cell_type": "code",
   "execution_count": 14,
   "id": "6293daea",
   "metadata": {},
   "outputs": [
    {
     "name": "stdout",
     "output_type": "stream",
     "text": [
      "2 es primo\n",
      "3 es primo\n",
      "5 es primo\n",
      "7 es primo\n",
      "11 es primo\n",
      "13 es primo\n",
      "17 es primo\n",
      "19 es primo\n",
      "23 es primo\n",
      "29 es primo\n"
     ]
    }
   ],
   "source": [
    "for i in range(0,31):\n",
    "    if(i<2):\n",
    "        continue\n",
    "    num = i - 1\n",
    "    isPrime = True\n",
    "    while(num > 1):\n",
    "        if((i % num) == 0):\n",
    "            isPrime = False\n",
    "            break\n",
    "        num -= 1\n",
    "    if(isPrime):\n",
    "        print(i,'es primo')"
   ]
  },
  {
   "cell_type": "markdown",
   "id": "a2257bda",
   "metadata": {},
   "source": [
    "### 10) ¿Se puede mejorar el proceso del punto 9? Utilizar las sentencias break y/ó continue para tal fin "
   ]
  },
  {
   "cell_type": "markdown",
   "id": "a167fe00",
   "metadata": {},
   "source": [
    "ya lo hice de esa manera en el paso anterior"
   ]
  },
  {
   "cell_type": "markdown",
   "id": "60094fbb",
   "metadata": {},
   "source": [
    "### 11) En los puntos 9 y 10, se diseño un código que encuentra números primos y además se lo optimizó. ¿Es posible saber en qué medida se optimizó?"
   ]
  },
  {
   "cell_type": "markdown",
   "id": "2e5b7e3a",
   "metadata": {},
   "source": [
    "se agregaron las sentencias break y continue para omitir iteraciones innecesarias en los bucles."
   ]
  },
  {
   "cell_type": "markdown",
   "id": "8304d34f",
   "metadata": {},
   "source": [
    "### 12) Si la cantidad de números que se evalúa es mayor a treinta, esa optimización crece? "
   ]
  },
  {
   "cell_type": "markdown",
   "id": "89533e47",
   "metadata": {},
   "source": [
    "totalmente, conforme el numero crece, el numero de comprobaciones es mucho mayor. De esa manera con las sentencias break y continue se omiten un numero mayor de comprobaciones innecesarias."
   ]
  },
  {
   "cell_type": "markdown",
   "id": "98c81b6b",
   "metadata": {},
   "source": [
    "### 13) Aplicando continue, armar un ciclo while que solo imprima los valores divisibles por 12, dentro del rango de números de 100 a 300 "
   ]
  },
  {
   "cell_type": "code",
   "execution_count": 16,
   "id": "748c0044",
   "metadata": {},
   "outputs": [
    {
     "name": "stdout",
     "output_type": "stream",
     "text": [
      "108 es divisible entre 12\n",
      "120 es divisible entre 12\n",
      "132 es divisible entre 12\n",
      "144 es divisible entre 12\n",
      "156 es divisible entre 12\n",
      "168 es divisible entre 12\n",
      "180 es divisible entre 12\n",
      "192 es divisible entre 12\n",
      "204 es divisible entre 12\n",
      "216 es divisible entre 12\n",
      "228 es divisible entre 12\n",
      "240 es divisible entre 12\n",
      "252 es divisible entre 12\n",
      "264 es divisible entre 12\n",
      "276 es divisible entre 12\n",
      "288 es divisible entre 12\n",
      "300 es divisible entre 12\n"
     ]
    }
   ],
   "source": [
    "count = 100\n",
    "while(count < 301):\n",
    "    if((count % 12) != 0):\n",
    "        count += 1\n",
    "        continue\n",
    "    print(count,'es divisible entre 12')\n",
    "    count += 1"
   ]
  },
  {
   "cell_type": "code",
   "execution_count": null,
   "id": "412d8405",
   "metadata": {},
   "outputs": [],
   "source": []
  }
 ],
 "metadata": {
  "kernelspec": {
   "display_name": "Python 3 (ipykernel)",
   "language": "python",
   "name": "python3"
  },
  "language_info": {
   "codemirror_mode": {
    "name": "ipython",
    "version": 3
   },
   "file_extension": ".py",
   "mimetype": "text/x-python",
   "name": "python",
   "nbconvert_exporter": "python",
   "pygments_lexer": "ipython3",
   "version": "3.10.7"
  }
 },
 "nbformat": 4,
 "nbformat_minor": 5
}
