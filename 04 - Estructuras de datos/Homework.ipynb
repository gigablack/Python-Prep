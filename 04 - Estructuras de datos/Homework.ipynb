{
 "cells": [
  {
   "cell_type": "markdown",
   "id": "67925c39",
   "metadata": {},
   "source": [
    "# Estructuras de Datos "
   ]
  },
  {
   "cell_type": "markdown",
   "id": "ba3e3fec",
   "metadata": {},
   "source": [
    "### 1) Crear una lista que contenga nombres de ciudades del mundo que contenga más de 5 elementos e imprimir por pantalla "
   ]
  },
  {
   "cell_type": "code",
   "execution_count": 1,
   "id": "7d3f2a03",
   "metadata": {},
   "outputs": [
    {
     "name": "stdout",
     "output_type": "stream",
     "text": [
      "['Caracas', 'Medellin', 'Buenos Aires', 'Santiago de Chile', 'Lima', 'Quito']\n"
     ]
    }
   ],
   "source": [
    "ciudades = ['Caracas','Medellin','Buenos Aires','Santiago de Chile','Lima','Quito']\n",
    "print(ciudades)"
   ]
  },
  {
   "cell_type": "markdown",
   "id": "314795be",
   "metadata": {},
   "source": [
    "### 2) Imprimir por pantalla el segundo elemento de la lista "
   ]
  },
  {
   "cell_type": "code",
   "execution_count": 2,
   "id": "edb17287",
   "metadata": {},
   "outputs": [
    {
     "name": "stdout",
     "output_type": "stream",
     "text": [
      "Medellin\n"
     ]
    }
   ],
   "source": [
    "print(ciudades[1])"
   ]
  },
  {
   "cell_type": "markdown",
   "id": "4bcb6931",
   "metadata": {},
   "source": [
    "### 3) Imprimir por pantalla del segundo al cuarto elemento "
   ]
  },
  {
   "cell_type": "code",
   "execution_count": 3,
   "id": "f7357554",
   "metadata": {},
   "outputs": [
    {
     "name": "stdout",
     "output_type": "stream",
     "text": [
      "['Medellin', 'Buenos Aires', 'Santiago de Chile']\n"
     ]
    }
   ],
   "source": [
    "print(ciudades[1:4])"
   ]
  },
  {
   "cell_type": "markdown",
   "id": "fb7f2600",
   "metadata": {},
   "source": [
    "### 4) Visualizar el tipo de dato de la lista "
   ]
  },
  {
   "cell_type": "code",
   "execution_count": 4,
   "id": "2fcb7d3d",
   "metadata": {},
   "outputs": [
    {
     "name": "stdout",
     "output_type": "stream",
     "text": [
      "<class 'list'>\n"
     ]
    }
   ],
   "source": [
    "print(type(ciudades))"
   ]
  },
  {
   "cell_type": "markdown",
   "id": "d1758c32",
   "metadata": {},
   "source": [
    "### 5) Visualizar todos los elementos de la lista a partir del tercero de manera genérica, es decir, sin explicitar la posición del último elemento "
   ]
  },
  {
   "cell_type": "code",
   "execution_count": 6,
   "id": "631449f9",
   "metadata": {},
   "outputs": [
    {
     "name": "stdout",
     "output_type": "stream",
     "text": [
      "['Buenos Aires', 'Santiago de Chile', 'Lima', 'Quito']\n"
     ]
    }
   ],
   "source": [
    "print(ciudades[2:])"
   ]
  },
  {
   "cell_type": "markdown",
   "id": "71d9db8a",
   "metadata": {},
   "source": [
    "### 6) Visualizar los primeros 4 elementos de la lista "
   ]
  },
  {
   "cell_type": "code",
   "execution_count": 7,
   "id": "3664fd25",
   "metadata": {},
   "outputs": [
    {
     "name": "stdout",
     "output_type": "stream",
     "text": [
      "['Caracas', 'Medellin', 'Buenos Aires', 'Santiago de Chile']\n"
     ]
    }
   ],
   "source": [
    "print(ciudades[:4])"
   ]
  },
  {
   "cell_type": "markdown",
   "id": "7e8262de",
   "metadata": {},
   "source": [
    "### 7) Agregar una ciudad más a la lista que ya exista y otra que no ¿Arroja algún tipo de error? "
   ]
  },
  {
   "cell_type": "code",
   "execution_count": 8,
   "id": "7235a50a",
   "metadata": {},
   "outputs": [
    {
     "data": {
      "text/plain": [
       "['Caracas',\n",
       " 'Medellin',\n",
       " 'Buenos Aires',\n",
       " 'Santiago de Chile',\n",
       " 'Lima',\n",
       " 'Quito',\n",
       " 'Caracas',\n",
       " 'Brasilia']"
      ]
     },
     "execution_count": 8,
     "metadata": {},
     "output_type": "execute_result"
    }
   ],
   "source": [
    "ciudades.append('Caracas')\n",
    "ciudades.append('Brasilia')\n",
    "ciudades"
   ]
  },
  {
   "cell_type": "markdown",
   "id": "f9b1278a",
   "metadata": {},
   "source": [
    "### 8) Agregar otra ciudad, pero en la cuarta posición "
   ]
  },
  {
   "cell_type": "code",
   "execution_count": 11,
   "id": "0ba5e66d",
   "metadata": {},
   "outputs": [
    {
     "data": {
      "text/plain": [
       "['Caracas',\n",
       " 'Medellin',\n",
       " 'Buenos Aires',\n",
       " 'Bogota',\n",
       " 'Santiago de Chile',\n",
       " 'Lima',\n",
       " 'Quito',\n",
       " 'Caracas',\n",
       " 'Brasilia']"
      ]
     },
     "execution_count": 11,
     "metadata": {},
     "output_type": "execute_result"
    }
   ],
   "source": [
    "ciudades.insert(3,'Bogota')\n",
    "ciudades"
   ]
  },
  {
   "cell_type": "markdown",
   "id": "7e5649f6",
   "metadata": {},
   "source": [
    "### 9) Concatenar otra lista a la ya creada "
   ]
  },
  {
   "cell_type": "code",
   "execution_count": 13,
   "id": "8e11c0fa",
   "metadata": {},
   "outputs": [
    {
     "data": {
      "text/plain": [
       "['Caracas',\n",
       " 'Medellin',\n",
       " 'Buenos Aires',\n",
       " 'Bogota',\n",
       " 'Santiago de Chile',\n",
       " 'Lima',\n",
       " 'Quito',\n",
       " 'Caracas',\n",
       " 'Brasilia',\n",
       " 'Maracay',\n",
       " 'Cordoba',\n",
       " 'Iquique',\n",
       " 'Maracay',\n",
       " 'Cordoba',\n",
       " 'Iquique']"
      ]
     },
     "execution_count": 13,
     "metadata": {},
     "output_type": "execute_result"
    }
   ],
   "source": [
    "ciudades.extend(['Maracay','Cordoba','Iquique'])\n",
    "ciudades"
   ]
  },
  {
   "cell_type": "markdown",
   "id": "bf7b6a02",
   "metadata": {},
   "source": [
    "### 10) Encontrar el índice de la ciudad que en el punto 7 agregamos duplicada. ¿Se nota alguna particularidad? "
   ]
  },
  {
   "cell_type": "code",
   "execution_count": 15,
   "id": "ce08aafa",
   "metadata": {},
   "outputs": [
    {
     "data": {
      "text/plain": [
       "0"
      ]
     },
     "execution_count": 15,
     "metadata": {},
     "output_type": "execute_result"
    }
   ],
   "source": [
    "ciudades.index('Caracas')"
   ]
  },
  {
   "cell_type": "markdown",
   "id": "9c5246b4",
   "metadata": {},
   "source": [
    "### 11) ¿Qué pasa si se busca un elemento que no existe? "
   ]
  },
  {
   "cell_type": "code",
   "execution_count": 16,
   "id": "cb45b690",
   "metadata": {},
   "outputs": [
    {
     "ename": "ValueError",
     "evalue": "'Ottawa' is not in list",
     "output_type": "error",
     "traceback": [
      "\u001b[0;31m---------------------------------------------------------------------------\u001b[0m",
      "\u001b[0;31mValueError\u001b[0m                                Traceback (most recent call last)",
      "Input \u001b[0;32mIn [16]\u001b[0m, in \u001b[0;36m<cell line: 1>\u001b[0;34m()\u001b[0m\n\u001b[0;32m----> 1\u001b[0m \u001b[43mciudades\u001b[49m\u001b[38;5;241;43m.\u001b[39;49m\u001b[43mindex\u001b[49m\u001b[43m(\u001b[49m\u001b[38;5;124;43m'\u001b[39;49m\u001b[38;5;124;43mOttawa\u001b[39;49m\u001b[38;5;124;43m'\u001b[39;49m\u001b[43m)\u001b[49m\n",
      "\u001b[0;31mValueError\u001b[0m: 'Ottawa' is not in list"
     ]
    }
   ],
   "source": [
    "ciudades.index('Ottawa')"
   ]
  },
  {
   "cell_type": "markdown",
   "id": "b00f64a8",
   "metadata": {},
   "source": [
    "### 12) Eliminar un elemento de la lista "
   ]
  },
  {
   "cell_type": "code",
   "execution_count": 17,
   "id": "2a18aae5",
   "metadata": {},
   "outputs": [],
   "source": [
    "ciudades.remove('Brasilia')"
   ]
  },
  {
   "cell_type": "code",
   "execution_count": 18,
   "id": "7d876068",
   "metadata": {},
   "outputs": [
    {
     "data": {
      "text/plain": [
       "['Caracas',\n",
       " 'Medellin',\n",
       " 'Buenos Aires',\n",
       " 'Bogota',\n",
       " 'Santiago de Chile',\n",
       " 'Lima',\n",
       " 'Quito',\n",
       " 'Caracas',\n",
       " 'Maracay',\n",
       " 'Cordoba',\n",
       " 'Iquique',\n",
       " 'Maracay',\n",
       " 'Cordoba',\n",
       " 'Iquique']"
      ]
     },
     "execution_count": 18,
     "metadata": {},
     "output_type": "execute_result"
    }
   ],
   "source": [
    "ciudades"
   ]
  },
  {
   "cell_type": "markdown",
   "id": "8fbcc20d",
   "metadata": {},
   "source": [
    "### 13) ¿Qué pasa si el elemento a eliminar no existe? "
   ]
  },
  {
   "cell_type": "code",
   "execution_count": 19,
   "id": "047e38e1",
   "metadata": {},
   "outputs": [
    {
     "ename": "ValueError",
     "evalue": "list.remove(x): x not in list",
     "output_type": "error",
     "traceback": [
      "\u001b[0;31m---------------------------------------------------------------------------\u001b[0m",
      "\u001b[0;31mValueError\u001b[0m                                Traceback (most recent call last)",
      "Input \u001b[0;32mIn [19]\u001b[0m, in \u001b[0;36m<cell line: 1>\u001b[0;34m()\u001b[0m\n\u001b[0;32m----> 1\u001b[0m \u001b[43mciudades\u001b[49m\u001b[38;5;241;43m.\u001b[39;49m\u001b[43mremove\u001b[49m\u001b[43m(\u001b[49m\u001b[38;5;124;43m'\u001b[39;49m\u001b[38;5;124;43mBrasilia\u001b[39;49m\u001b[38;5;124;43m'\u001b[39;49m\u001b[43m)\u001b[49m\n",
      "\u001b[0;31mValueError\u001b[0m: list.remove(x): x not in list"
     ]
    }
   ],
   "source": [
    "ciudades.remove('Brasilia')"
   ]
  },
  {
   "cell_type": "markdown",
   "id": "ae378431",
   "metadata": {},
   "source": [
    "### 14) Extraer el úlimo elemento de la lista, guardarlo en una variable e imprimirlo "
   ]
  },
  {
   "cell_type": "code",
   "execution_count": 22,
   "id": "7d76b3ae",
   "metadata": {},
   "outputs": [
    {
     "name": "stdout",
     "output_type": "stream",
     "text": [
      "Iquique\n"
     ]
    }
   ],
   "source": [
    "last = ciudades[-1]\n",
    "print(last)"
   ]
  },
  {
   "cell_type": "markdown",
   "id": "c82b0b73",
   "metadata": {},
   "source": [
    "### 15) Mostrar la lista multiplicada por 4 "
   ]
  },
  {
   "cell_type": "code",
   "execution_count": 23,
   "id": "19229bba",
   "metadata": {},
   "outputs": [
    {
     "name": "stdout",
     "output_type": "stream",
     "text": [
      "['Caracas', 'Medellin', 'Buenos Aires', 'Bogota', 'Santiago de Chile', 'Lima', 'Quito', 'Caracas', 'Maracay', 'Cordoba', 'Iquique', 'Maracay', 'Cordoba', 'Iquique', 'Caracas', 'Medellin', 'Buenos Aires', 'Bogota', 'Santiago de Chile', 'Lima', 'Quito', 'Caracas', 'Maracay', 'Cordoba', 'Iquique', 'Maracay', 'Cordoba', 'Iquique', 'Caracas', 'Medellin', 'Buenos Aires', 'Bogota', 'Santiago de Chile', 'Lima', 'Quito', 'Caracas', 'Maracay', 'Cordoba', 'Iquique', 'Maracay', 'Cordoba', 'Iquique', 'Caracas', 'Medellin', 'Buenos Aires', 'Bogota', 'Santiago de Chile', 'Lima', 'Quito', 'Caracas', 'Maracay', 'Cordoba', 'Iquique', 'Maracay', 'Cordoba', 'Iquique']\n"
     ]
    }
   ],
   "source": [
    "print(ciudades * 4)"
   ]
  },
  {
   "cell_type": "markdown",
   "id": "7c31a39f",
   "metadata": {},
   "source": [
    "### 16) Crear una tupla que contenga los números enteros del 1 al 20 "
   ]
  },
  {
   "cell_type": "code",
   "execution_count": 27,
   "id": "b74a36b9",
   "metadata": {},
   "outputs": [
    {
     "data": {
      "text/plain": [
       "(1, 2, 3, 4, 5, 6, 7, 8, 9, 10, 11, 12, 13, 14, 15, 16, 17, 18, 19, 20)"
      ]
     },
     "execution_count": 27,
     "metadata": {},
     "output_type": "execute_result"
    }
   ],
   "source": [
    "my_tuple = tuple([i for i in range(1,21)])\n",
    "my_tuple"
   ]
  },
  {
   "cell_type": "markdown",
   "id": "e0c155ad",
   "metadata": {},
   "source": [
    "### 17) Imprimir desde el índice 10 al 15 de la tupla "
   ]
  },
  {
   "cell_type": "code",
   "execution_count": 28,
   "id": "f7e4fcde",
   "metadata": {},
   "outputs": [
    {
     "name": "stdout",
     "output_type": "stream",
     "text": [
      "(11, 12, 13, 14, 15, 16)\n"
     ]
    }
   ],
   "source": [
    "print(my_tuple[10:16])"
   ]
  },
  {
   "cell_type": "markdown",
   "id": "0012f946",
   "metadata": {},
   "source": [
    "### 18) Evaluar si los números 20 y 30 están dentro de la tupla "
   ]
  },
  {
   "cell_type": "code",
   "execution_count": 32,
   "id": "42caeaf5",
   "metadata": {},
   "outputs": [
    {
     "data": {
      "text/plain": [
       "True"
      ]
     },
     "execution_count": 32,
     "metadata": {},
     "output_type": "execute_result"
    }
   ],
   "source": [
    "20 in my_tuple"
   ]
  },
  {
   "cell_type": "code",
   "execution_count": 31,
   "id": "ce0553d4",
   "metadata": {},
   "outputs": [
    {
     "data": {
      "text/plain": [
       "False"
      ]
     },
     "execution_count": 31,
     "metadata": {},
     "output_type": "execute_result"
    }
   ],
   "source": [
    "30 in my_tuple"
   ]
  },
  {
   "cell_type": "markdown",
   "id": "c94f89dd",
   "metadata": {},
   "source": [
    "### 19) Con la lista creada en el punto 1, validar la existencia del elemento 'París' y si no existe, agregarlo. Utilizar una variable e informar lo sucedido. "
   ]
  },
  {
   "cell_type": "code",
   "execution_count": 34,
   "id": "f878ad5b",
   "metadata": {},
   "outputs": [
    {
     "name": "stdout",
     "output_type": "stream",
     "text": [
      "Paris ya esta en la lista\n"
     ]
    }
   ],
   "source": [
    "new_city = 'Paris'\n",
    "if(new_city not in ciudades):\n",
    "    print(new_city,'no esta en la lista')\n",
    "    ciudades.append('Paris')\n",
    "    print(new_city,'ha sido agregada a la lista de forma exitosa')\n",
    "else:\n",
    "    print(new_city,'ya esta en la lista')"
   ]
  },
  {
   "cell_type": "markdown",
   "id": "1ed84645",
   "metadata": {},
   "source": [
    "### 20) Mostrar la cantidad de veces que se encuentra un elemento específico dentro de la tupla y de la lista "
   ]
  },
  {
   "cell_type": "code",
   "execution_count": 35,
   "id": "7e58b6a3",
   "metadata": {},
   "outputs": [
    {
     "data": {
      "text/plain": [
       "1"
      ]
     },
     "execution_count": 35,
     "metadata": {},
     "output_type": "execute_result"
    }
   ],
   "source": [
    "my_tuple.count(3)"
   ]
  },
  {
   "cell_type": "code",
   "execution_count": 36,
   "id": "7e724187",
   "metadata": {},
   "outputs": [
    {
     "data": {
      "text/plain": [
       "2"
      ]
     },
     "execution_count": 36,
     "metadata": {},
     "output_type": "execute_result"
    }
   ],
   "source": [
    "ciudades.count('Caracas')"
   ]
  },
  {
   "cell_type": "markdown",
   "id": "8182bcc5",
   "metadata": {},
   "source": [
    "### 21) Convertir la tupla en una lista "
   ]
  },
  {
   "cell_type": "code",
   "execution_count": 37,
   "id": "2c0dacd5",
   "metadata": {},
   "outputs": [
    {
     "data": {
      "text/plain": [
       "[1, 2, 3, 4, 5, 6, 7, 8, 9, 10, 11, 12, 13, 14, 15, 16, 17, 18, 19, 20]"
      ]
     },
     "execution_count": 37,
     "metadata": {},
     "output_type": "execute_result"
    }
   ],
   "source": [
    "list(my_tuple)"
   ]
  },
  {
   "cell_type": "markdown",
   "id": "dc9c8b49",
   "metadata": {},
   "source": [
    "### 22) Desempaquetar solo los primeros 3 elementos de la tupla en 3 variables "
   ]
  },
  {
   "cell_type": "code",
   "execution_count": 39,
   "id": "6ea7bbd2",
   "metadata": {},
   "outputs": [
    {
     "name": "stdout",
     "output_type": "stream",
     "text": [
      "1 2 3\n"
     ]
    }
   ],
   "source": [
    "first,second,third = my_tuple[:3]\n",
    "print(first,second,third)"
   ]
  },
  {
   "cell_type": "markdown",
   "id": "1a60ae4a",
   "metadata": {},
   "source": [
    "### 23) Crear un diccionario utilizando la lista crada en el punto 1, asignandole la clave \"ciudad\". Agregar tambien otras claves, como puede ser \"Pais\" y \"Continente\". "
   ]
  },
  {
   "cell_type": "code",
   "execution_count": 48,
   "id": "a6d22233",
   "metadata": {},
   "outputs": [],
   "source": [
    "my_dict = {'Ciudad':ciudades[0],'Pais':'Venezuela','Continente':'Latinoamerica'}"
   ]
  },
  {
   "cell_type": "markdown",
   "id": "2d1a818a",
   "metadata": {},
   "source": [
    "### 24) Imprimir las claves del diccionario "
   ]
  },
  {
   "cell_type": "code",
   "execution_count": 52,
   "id": "523ca82c",
   "metadata": {},
   "outputs": [
    {
     "name": "stdout",
     "output_type": "stream",
     "text": [
      "dict_keys(['Ciudad', 'Pais', 'Continente'])\n"
     ]
    }
   ],
   "source": [
    "print(my_dict.keys())"
   ]
  },
  {
   "cell_type": "markdown",
   "id": "11da77c4",
   "metadata": {},
   "source": [
    "### 25) Imprimir las ciudades a través de su clave "
   ]
  },
  {
   "cell_type": "code",
   "execution_count": 53,
   "id": "b6bc7602",
   "metadata": {},
   "outputs": [
    {
     "name": "stdout",
     "output_type": "stream",
     "text": [
      "Caracas\n"
     ]
    }
   ],
   "source": [
    "print(my_dict['Ciudad'])"
   ]
  },
  {
   "cell_type": "code",
   "execution_count": null,
   "id": "d01b078e",
   "metadata": {},
   "outputs": [],
   "source": []
  }
 ],
 "metadata": {
  "kernelspec": {
   "display_name": "Python 3 (ipykernel)",
   "language": "python",
   "name": "python3"
  },
  "language_info": {
   "codemirror_mode": {
    "name": "ipython",
    "version": 3
   },
   "file_extension": ".py",
   "mimetype": "text/x-python",
   "name": "python",
   "nbconvert_exporter": "python",
   "pygments_lexer": "ipython3",
   "version": "3.10.7"
  }
 },
 "nbformat": 4,
 "nbformat_minor": 5
}
