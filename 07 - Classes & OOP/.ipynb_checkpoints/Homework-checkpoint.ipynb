{
 "cells": [
  {
   "cell_type": "markdown",
   "id": "12aef0c7",
   "metadata": {},
   "source": [
    "# Clases y Programación Orientada a Objetos"
   ]
  },
  {
   "cell_type": "markdown",
   "id": "60e9ebd9",
   "metadata": {},
   "source": [
    "### 1) Crear la clase vehículo que contenga los atributos:<br>\n",
    "Color<br>\n",
    "Si es moto, auto, camioneta ó camión<br>\n",
    "Cilindrada del motor "
   ]
  },
  {
   "cell_type": "code",
   "execution_count": 1,
   "id": "204d8744",
   "metadata": {},
   "outputs": [],
   "source": [
    "class Vehiculo:\n",
    "    def __init_(self,color,tipo,cilindrada):\n",
    "        self.color = color\n",
    "        self.tipo = tipo\n",
    "        self.cilindrada = cilindrada"
   ]
  },
  {
   "cell_type": "markdown",
   "id": "f04f015d",
   "metadata": {},
   "source": [
    "### 2) A la clase Vehiculo creada en el punto 1, agregar los siguientes métodos:<br>\n",
    "Acelerar<br>\n",
    "Frenar<br>\n",
    "Doblar<br> "
   ]
  },
  {
   "cell_type": "code",
   "execution_count": 9,
   "id": "d2ba2698",
   "metadata": {},
   "outputs": [],
   "source": [
    "class Vehiculo:\n",
    "    def __init__(self,color,tipo,cilindrada):\n",
    "        self.color = color\n",
    "        self.tipo = tipo\n",
    "        self.cilindrada = cilindrada\n",
    "    def acelerar(self):\n",
    "        pass\n",
    "    def frenar(self):\n",
    "        pass\n",
    "    def doblar(self):\n",
    "        pass"
   ]
  },
  {
   "cell_type": "markdown",
   "id": "752bd540",
   "metadata": {},
   "source": [
    "### 3) Instanciar 3 objetos de la clase vehículo y ejecutar sus métodos, probar luego el resultado "
   ]
  },
  {
   "cell_type": "code",
   "execution_count": 11,
   "id": "8b00e092",
   "metadata": {},
   "outputs": [],
   "source": [
    "moto = Vehiculo('rojo','moto','ni idea')\n",
    "carro = Vehiculo('azul','carro','ni idea')\n",
    "camion = Vehiculo('amarillo','camion','ni idea')"
   ]
  },
  {
   "cell_type": "markdown",
   "id": "0db78e7a",
   "metadata": {},
   "source": [
    "### 4) Agregar a la clase Vehiculo, un método que muestre su estado, es decir, a que velocidad se encuentra y su dirección. Y otro método que muestre color, tipo y cilindrada "
   ]
  },
  {
   "cell_type": "code",
   "execution_count": 12,
   "id": "de1612c8",
   "metadata": {},
   "outputs": [
    {
     "name": "stdout",
     "output_type": "stream",
     "text": [
      "color: rojo\n",
      "tipo: moto\n",
      "cilindrada: ni idead\n"
     ]
    }
   ],
   "source": [
    "class Vehiculo:\n",
    "    def __init__(self,color,tipo,cilindrada):\n",
    "        self.color = color\n",
    "        self.tipo = tipo\n",
    "        self.cilindrada = cilindrada\n",
    "        self.velocidad = 0.0\n",
    "        self.direccion = 'izquierda'\n",
    "    def acelerar(self):\n",
    "        pass\n",
    "    def frenar(self):\n",
    "        pass\n",
    "    def doblar(self):\n",
    "        pass\n",
    "    def estado(self):\n",
    "        print('la velocidad es de ',self.velocidad,'km/h','y la direccion es',self.direccion)\n",
    "    def descripcion(self):\n",
    "        print('color:',self.color)\n",
    "        print('tipo:',self.tipo)\n",
    "        print('cilindrada:',self.cilindrada)\n",
    "moto = Vehiculo('rojo','moto','ni idead')\n",
    "moto.descripcion()"
   ]
  },
  {
   "cell_type": "markdown",
   "id": "d8c1183a",
   "metadata": {},
   "source": [
    "### 5) Crear una clase que permita utilizar las funciones creadas en la práctica del módulo 6<br>\n",
    "Verificar Primo<br>\n",
    "Valor modal<br>\n",
    "Conversión grados<br>\n",
    "Factorial<br> "
   ]
  },
  {
   "cell_type": "code",
   "execution_count": 27,
   "id": "f113cd9f",
   "metadata": {},
   "outputs": [
    {
     "data": {
      "text/plain": [
       "120"
      ]
     },
     "execution_count": 27,
     "metadata": {},
     "output_type": "execute_result"
    }
   ],
   "source": [
    "class Utils:\n",
    "    def verificar_primo(self,num):\n",
    "        if num < 2:\n",
    "            return False\n",
    "        prime = True\n",
    "        for i in range(2,num):\n",
    "            if((num % i) == 0):\n",
    "                prime = False\n",
    "                break\n",
    "        return prime\n",
    "    def valor_modal(self,lis,first=True):\n",
    "        num = {}\n",
    "        for i in set(lis):\n",
    "            num[lis.count(i)] = i\n",
    "        if first:\n",
    "            return num[max(num)]\n",
    "        else:\n",
    "            num.pop(max(num))\n",
    "            return num[max(num)]\n",
    "    def conversor_grados(self,value,origin,destiny):\n",
    "        def c_2_f(c):\n",
    "            return (c * (9/5)) + 32\n",
    "        def c_2_k(c):\n",
    "            return c + 273.15\n",
    "        def k_2_c(k):\n",
    "            return k - 273.15\n",
    "        def f_2_c(f):\n",
    "            return (f - 32)*5/9\n",
    "        if origin == 'celsius':\n",
    "            if destiny == 'farenheit':\n",
    "                return c_2_f(value)\n",
    "            else:\n",
    "                return c_2_k(value)\n",
    "        elif origin == 'farenheit':\n",
    "            if destiny == 'celsius':\n",
    "                return f_2_c(value)\n",
    "            else:\n",
    "                return c_2_k(f_2_c(value))\n",
    "        else:\n",
    "            if destiny == 'celsius':\n",
    "                return k_2_c(value)\n",
    "            else:\n",
    "                return c_2_f(k_2_c(value))\n",
    "    def factorial(self,num):\n",
    "        if type(num) != int or num < 0:\n",
    "            print('introduzca un numero entero positivo')\n",
    "        else:\n",
    "            fac = 1\n",
    "            while(num > 0):\n",
    "                fac = fac * num\n",
    "                num -= 1\n",
    "            return fac\n",
    "utils = Utils()\n",
    "utils.factorial(5)"
   ]
  },
  {
   "cell_type": "markdown",
   "id": "98a4d485",
   "metadata": {},
   "source": [
    "### 6) Probar las funciones incorporadas en la clase del punto 5 "
   ]
  },
  {
   "cell_type": "code",
   "execution_count": 28,
   "id": "735c4fa9",
   "metadata": {},
   "outputs": [
    {
     "data": {
      "text/plain": [
       "True"
      ]
     },
     "execution_count": 28,
     "metadata": {},
     "output_type": "execute_result"
    }
   ],
   "source": [
    "utils.verificar_primo(5)"
   ]
  },
  {
   "cell_type": "code",
   "execution_count": 29,
   "id": "dd22ee33",
   "metadata": {},
   "outputs": [
    {
     "data": {
      "text/plain": [
       "4"
      ]
     },
     "execution_count": 29,
     "metadata": {},
     "output_type": "execute_result"
    }
   ],
   "source": [
    "utils.valor_modal([1,2,2,2,3,3,3,4,4,4,4,5,6,7,7,8,9,9])"
   ]
  },
  {
   "cell_type": "code",
   "execution_count": 30,
   "id": "e0188ec0",
   "metadata": {},
   "outputs": [
    {
     "data": {
      "text/plain": [
       "-279.66999999999996"
      ]
     },
     "execution_count": 30,
     "metadata": {},
     "output_type": "execute_result"
    }
   ],
   "source": [
    "utils.conversor_grados(100,'kelvin','farenheit')"
   ]
  },
  {
   "cell_type": "code",
   "execution_count": 31,
   "id": "f10636aa",
   "metadata": {},
   "outputs": [
    {
     "data": {
      "text/plain": [
       "5040"
      ]
     },
     "execution_count": 31,
     "metadata": {},
     "output_type": "execute_result"
    }
   ],
   "source": [
    "utils.factorial(7)"
   ]
  },
  {
   "cell_type": "markdown",
   "id": "e5de4030",
   "metadata": {},
   "source": [
    "### 7) Es necesario que la clase creada en el punto 5 contenga una lista, sobre la cual se aplquen las funciones incorporadas "
   ]
  },
  {
   "cell_type": "code",
   "execution_count": 32,
   "id": "6f1c9b2e",
   "metadata": {},
   "outputs": [],
   "source": [
    "class Utils:\n",
    "    def __init__(self):\n",
    "        self.lista = [1,2,3,4,5,6,7,8,9]\n",
    "    def verificar_primo(self,num):\n",
    "        if num < 2:\n",
    "            return False\n",
    "        prime = True\n",
    "        for i in range(2,num):\n",
    "            if((num % i) == 0):\n",
    "                prime = False\n",
    "                break\n",
    "        return prime\n",
    "    def valor_modal(self,lis,first=True):\n",
    "        num = {}\n",
    "        for i in set(lis):\n",
    "            num[lis.count(i)] = i\n",
    "        if first:\n",
    "            return num[max(num)]\n",
    "        else:\n",
    "            num.pop(max(num))\n",
    "            return num[max(num)]\n",
    "    def conversor_grados(self,value,origin,destiny):\n",
    "        def c_2_f(c):\n",
    "            return (c * (9/5)) + 32\n",
    "        def c_2_k(c):\n",
    "            return c + 273.15\n",
    "        def k_2_c(k):\n",
    "            return k - 273.15\n",
    "        def f_2_c(f):\n",
    "            return (f - 32)*5/9\n",
    "        if origin == 'celsius':\n",
    "            if destiny == 'farenheit':\n",
    "                return c_2_f(value)\n",
    "            else:\n",
    "                return c_2_k(value)\n",
    "        elif origin == 'farenheit':\n",
    "            if destiny == 'celsius':\n",
    "                return f_2_c(value)\n",
    "            else:\n",
    "                return c_2_k(f_2_c(value))\n",
    "        else:\n",
    "            if destiny == 'celsius':\n",
    "                return k_2_c(value)\n",
    "            else:\n",
    "                return c_2_f(k_2_c(value))\n",
    "    def factorial(self,num):\n",
    "        if type(num) != int or num < 0:\n",
    "            print('introduzca un numero entero positivo')\n",
    "        else:\n",
    "            fac = 1\n",
    "            while(num > 0):\n",
    "                fac = fac * num\n",
    "                num -= 1\n",
    "            return fac"
   ]
  },
  {
   "cell_type": "markdown",
   "id": "2fd3340b",
   "metadata": {},
   "source": [
    "### 8) Crear un archivo .py aparte y ubicar allí la clase generada en el punto anterior. Luego realizar la importación del módulo y probar alguna de sus funciones "
   ]
  },
  {
   "cell_type": "code",
   "execution_count": 38,
   "id": "bceda57e",
   "metadata": {},
   "outputs": [
    {
     "data": {
      "text/plain": [
       "120"
      ]
     },
     "execution_count": 38,
     "metadata": {},
     "output_type": "execute_result"
    }
   ],
   "source": [
    "import utils\n",
    "util = utils.Utils()\n",
    "util.factorial(5)"
   ]
  },
  {
   "cell_type": "code",
   "execution_count": null,
   "id": "5305365c",
   "metadata": {},
   "outputs": [],
   "source": []
  }
 ],
 "metadata": {
  "kernelspec": {
   "display_name": "Python 3 (ipykernel)",
   "language": "python",
   "name": "python3"
  },
  "language_info": {
   "codemirror_mode": {
    "name": "ipython",
    "version": 3
   },
   "file_extension": ".py",
   "mimetype": "text/x-python",
   "name": "python",
   "nbconvert_exporter": "python",
   "pygments_lexer": "ipython3",
   "version": "3.10.7"
  }
 },
 "nbformat": 4,
 "nbformat_minor": 5
}
