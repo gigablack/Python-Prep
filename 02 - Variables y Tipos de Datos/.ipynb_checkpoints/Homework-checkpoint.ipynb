{
 "cells": [
  {
   "cell_type": "markdown",
   "id": "5273e8c3",
   "metadata": {},
   "source": [
    "# Variables"
   ]
  },
  {
   "cell_type": "markdown",
   "id": "be25236c",
   "metadata": {},
   "source": [
    "### 1) Crear una variable que contenga un elemento del conjunto de números enteros y luego imprimir por pantalla"
   ]
  },
  {
   "cell_type": "code",
   "execution_count": 1,
   "id": "9fb6b743",
   "metadata": {},
   "outputs": [
    {
     "name": "stdout",
     "output_type": "stream",
     "text": [
      "4\n"
     ]
    }
   ],
   "source": [
    "var = 4\n",
    "print(var)"
   ]
  },
  {
   "cell_type": "markdown",
   "id": "e7593324",
   "metadata": {},
   "source": [
    "### 2) Imprimir el tipo de dato de la constante 8.5"
   ]
  },
  {
   "cell_type": "code",
   "execution_count": 2,
   "id": "c7deb7fe",
   "metadata": {},
   "outputs": [
    {
     "name": "stdout",
     "output_type": "stream",
     "text": [
      "<class 'float'>\n"
     ]
    }
   ],
   "source": [
    "print(type(8.5))"
   ]
  },
  {
   "cell_type": "markdown",
   "id": "54437604",
   "metadata": {},
   "source": [
    "### 3) Imprimir el tipo de dato de la variable creada en el punto 1"
   ]
  },
  {
   "cell_type": "code",
   "execution_count": 3,
   "id": "b20dc44a",
   "metadata": {},
   "outputs": [
    {
     "name": "stdout",
     "output_type": "stream",
     "text": [
      "<class 'int'>\n"
     ]
    }
   ],
   "source": [
    "print(type(var))"
   ]
  },
  {
   "cell_type": "markdown",
   "id": "d458651c",
   "metadata": {},
   "source": [
    "### 4) Crear una variable que contenga tu nombre"
   ]
  },
  {
   "cell_type": "code",
   "execution_count": 4,
   "id": "4b588972",
   "metadata": {},
   "outputs": [],
   "source": [
    "name = 'Gustavo'"
   ]
  },
  {
   "cell_type": "markdown",
   "id": "9c5c30e9",
   "metadata": {},
   "source": [
    "### 5) Crear una variable que contenga un número complejo"
   ]
  },
  {
   "cell_type": "code",
   "execution_count": 6,
   "id": "f5e472a4",
   "metadata": {},
   "outputs": [],
   "source": [
    "comp_num = 15 + 4j"
   ]
  },
  {
   "cell_type": "markdown",
   "id": "a60d3bfe",
   "metadata": {},
   "source": [
    "### 6) Mostrar el tipo de dato de la variable crada en el punto 5"
   ]
  },
  {
   "cell_type": "code",
   "execution_count": 7,
   "id": "94019f5a",
   "metadata": {},
   "outputs": [
    {
     "name": "stdout",
     "output_type": "stream",
     "text": [
      "<class 'complex'>\n"
     ]
    }
   ],
   "source": [
    "print(type(comp_num))"
   ]
  },
  {
   "cell_type": "markdown",
   "id": "e5eb839d",
   "metadata": {},
   "source": [
    "### 7) Crear una variable que contenga el valor del número Pi redondeado a 4 decimales"
   ]
  },
  {
   "cell_type": "code",
   "execution_count": 8,
   "id": "a5eaaaa7",
   "metadata": {},
   "outputs": [],
   "source": [
    "pi = 3.1416"
   ]
  },
  {
   "cell_type": "markdown",
   "id": "3a424714",
   "metadata": {},
   "source": [
    "### 8) Crear una variable que contenga el valor 'True' y otra que contenga el valor True. ¿Se trata de lo mismo?"
   ]
  },
  {
   "cell_type": "code",
   "execution_count": 9,
   "id": "b994d8d2",
   "metadata": {},
   "outputs": [],
   "source": [
    "true1 = 'Ttrue'\n",
    "true2 = True"
   ]
  },
  {
   "cell_type": "markdown",
   "id": "a651f71d",
   "metadata": {},
   "source": [
    "### 9) Imprimir el tipo de dato correspondientes a las variables creadas en el punto 8"
   ]
  },
  {
   "cell_type": "code",
   "execution_count": 10,
   "id": "8c6db3a0",
   "metadata": {},
   "outputs": [
    {
     "name": "stdout",
     "output_type": "stream",
     "text": [
      "<class 'str'>\n",
      "<class 'bool'>\n"
     ]
    }
   ],
   "source": [
    "print(type(true1))\n",
    "print(type(true2))"
   ]
  },
  {
   "cell_type": "markdown",
   "id": "59345281",
   "metadata": {},
   "source": [
    "### 10) Asignar a una variable, la suma de un número entero y otro decimal"
   ]
  },
  {
   "cell_type": "code",
   "execution_count": 11,
   "id": "ec655174",
   "metadata": {},
   "outputs": [],
   "source": [
    "int_float_sum = 17 + 15.6"
   ]
  },
  {
   "cell_type": "markdown",
   "id": "c140e33e",
   "metadata": {},
   "source": [
    "### 11) Realizar una operación de suma de números complejos"
   ]
  },
  {
   "cell_type": "code",
   "execution_count": 16,
   "id": "efc5c692",
   "metadata": {},
   "outputs": [
    {
     "data": {
      "text/plain": [
       "(10+13j)"
      ]
     },
     "execution_count": 16,
     "metadata": {},
     "output_type": "execute_result"
    }
   ],
   "source": [
    "(4 + 5j) + (6 + 8j)"
   ]
  },
  {
   "cell_type": "markdown",
   "id": "bb8a1e0f",
   "metadata": {},
   "source": [
    "### 12) Realizar una operación de suma de un número real y otro complejo"
   ]
  },
  {
   "cell_type": "code",
   "execution_count": 17,
   "id": "23fbff31",
   "metadata": {},
   "outputs": [
    {
     "data": {
      "text/plain": [
       "(20.8+4j)"
      ]
     },
     "execution_count": 17,
     "metadata": {},
     "output_type": "execute_result"
    }
   ],
   "source": [
    "15.8 + (5 + 4j)"
   ]
  },
  {
   "cell_type": "markdown",
   "id": "a8aca3e4",
   "metadata": {},
   "source": [
    "### 13) Realizar una operación de multiplicación"
   ]
  },
  {
   "cell_type": "code",
   "execution_count": 15,
   "id": "a611113b",
   "metadata": {},
   "outputs": [
    {
     "data": {
      "text/plain": [
       "15"
      ]
     },
     "execution_count": 15,
     "metadata": {},
     "output_type": "execute_result"
    }
   ],
   "source": [
    "5 * 3"
   ]
  },
  {
   "cell_type": "markdown",
   "id": "94aa45c1",
   "metadata": {},
   "source": [
    "### 14) Mostrar el resultado de elevar 2 a la octava potencia"
   ]
  },
  {
   "cell_type": "code",
   "execution_count": 18,
   "id": "b6f74dd2",
   "metadata": {},
   "outputs": [
    {
     "data": {
      "text/plain": [
       "256"
      ]
     },
     "execution_count": 18,
     "metadata": {},
     "output_type": "execute_result"
    }
   ],
   "source": [
    "2**8"
   ]
  },
  {
   "cell_type": "markdown",
   "id": "dba063d3",
   "metadata": {},
   "source": [
    "### 15) Obtener el cociente de la división de 27 entre 4 en una variable y luego mostrarla"
   ]
  },
  {
   "cell_type": "code",
   "execution_count": 21,
   "id": "77b8ce65",
   "metadata": {},
   "outputs": [
    {
     "name": "stdout",
     "output_type": "stream",
     "text": [
      "6.75\n"
     ]
    }
   ],
   "source": [
    "result = 27 / 4\n",
    "print(result)"
   ]
  },
  {
   "cell_type": "markdown",
   "id": "b74aaa50",
   "metadata": {},
   "source": [
    "### 16) De la división anterior solamente mostrar la parte entera"
   ]
  },
  {
   "cell_type": "code",
   "execution_count": 23,
   "id": "68a6d5a2",
   "metadata": {},
   "outputs": [
    {
     "data": {
      "text/plain": [
       "6"
      ]
     },
     "execution_count": 23,
     "metadata": {},
     "output_type": "execute_result"
    }
   ],
   "source": [
    "27 // 4"
   ]
  },
  {
   "cell_type": "markdown",
   "id": "36eda134",
   "metadata": {},
   "source": [
    "### 17) De la división de 27 entre 4 mostrar solamente el resto"
   ]
  },
  {
   "cell_type": "code",
   "execution_count": 24,
   "id": "80293ab4",
   "metadata": {},
   "outputs": [
    {
     "data": {
      "text/plain": [
       "3"
      ]
     },
     "execution_count": 24,
     "metadata": {},
     "output_type": "execute_result"
    }
   ],
   "source": [
    "27%4"
   ]
  },
  {
   "cell_type": "markdown",
   "id": "9de4095c",
   "metadata": {},
   "source": [
    "### 18) Utilizando como operandos el número 4 y los resultados obtenidos en los puntos 16 y 17. Obtener 27 como resultado"
   ]
  },
  {
   "cell_type": "code",
   "execution_count": 25,
   "id": "9848e722",
   "metadata": {},
   "outputs": [
    {
     "data": {
      "text/plain": [
       "27"
      ]
     },
     "execution_count": 25,
     "metadata": {},
     "output_type": "execute_result"
    }
   ],
   "source": [
    "6 * 4 + 3"
   ]
  },
  {
   "cell_type": "markdown",
   "id": "332c56a2",
   "metadata": {},
   "source": [
    "### 19) Utilizar el operador \"+\" en una operación donde intervengan solo variables alfanuméricas"
   ]
  },
  {
   "cell_type": "code",
   "execution_count": 26,
   "id": "febb8c2d",
   "metadata": {},
   "outputs": [
    {
     "data": {
      "text/plain": [
       "'hello world!'"
      ]
     },
     "execution_count": 26,
     "metadata": {},
     "output_type": "execute_result"
    }
   ],
   "source": [
    "var1 = 'hello '\n",
    "var2 = 'world!'\n",
    "var1 + var2"
   ]
  },
  {
   "cell_type": "markdown",
   "id": "d09a5cfc",
   "metadata": {},
   "source": [
    "### 20) Evaluar si \"2\" es igual a 2. ¿Por qué ocurre eso?"
   ]
  },
  {
   "cell_type": "code",
   "execution_count": 28,
   "id": "2cc94ff0",
   "metadata": {},
   "outputs": [
    {
     "data": {
      "text/plain": [
       "False"
      ]
     },
     "execution_count": 28,
     "metadata": {},
     "output_type": "execute_result"
    }
   ],
   "source": [
    "'2' == 2"
   ]
  },
  {
   "cell_type": "markdown",
   "id": "6b973a44",
   "metadata": {},
   "source": [
    "### 21) Utilizar las funciones de cambio de tipo de dato, para que la validación del punto 20 resulte verdadera"
   ]
  },
  {
   "cell_type": "code",
   "execution_count": 29,
   "id": "bc16e29e",
   "metadata": {},
   "outputs": [
    {
     "data": {
      "text/plain": [
       "True"
      ]
     },
     "execution_count": 29,
     "metadata": {},
     "output_type": "execute_result"
    }
   ],
   "source": [
    "int('2') == 2"
   ]
  },
  {
   "cell_type": "markdown",
   "id": "7e7f801d",
   "metadata": {},
   "source": [
    "### 22) ¿Por qué arroja error el siguiente cambio de tipo de datos? a = float('3,8')"
   ]
  },
  {
   "cell_type": "markdown",
   "id": "fdd4b8a9",
   "metadata": {},
   "source": [
    "porque python no interpreta la coma (,) como parte de un numero por lo cual no puede castearlo hacia un tipo de dato numerico. En tal caso hay que usar el punto (.)"
   ]
  },
  {
   "cell_type": "markdown",
   "id": "5d140e2f",
   "metadata": {},
   "source": [
    "### 23) Crear una variable con el valor 3, y utilizar el operador '-=' para modificar su contenido"
   ]
  },
  {
   "cell_type": "code",
   "execution_count": 31,
   "id": "2c0c0183",
   "metadata": {},
   "outputs": [
    {
     "data": {
      "text/plain": [
       "1"
      ]
     },
     "execution_count": 31,
     "metadata": {},
     "output_type": "execute_result"
    }
   ],
   "source": [
    "three = 3\n",
    "three -= 2\n",
    "three"
   ]
  },
  {
   "cell_type": "markdown",
   "id": "b2a9b801",
   "metadata": {},
   "source": [
    "### 24) Realizar la operacion 1 << 2 ¿Por qué da ese resultado? ¿Qué es el sistema de numeración binario?"
   ]
  },
  {
   "cell_type": "code",
   "execution_count": 32,
   "id": "be052114",
   "metadata": {},
   "outputs": [
    {
     "data": {
      "text/plain": [
       "4"
      ]
     },
     "execution_count": 32,
     "metadata": {},
     "output_type": "execute_result"
    }
   ],
   "source": [
    "1 << 2"
   ]
  },
  {
   "cell_type": "markdown",
   "id": "3ec529e0",
   "metadata": {},
   "source": [
    "En el sistema binario cada posicion de derecha a izquierda indica una potencia de 2. El operador left shift desplaza el operador de la izquierda tantos espacios como indique el operador de la derecha, lo cual seria lo mismo que elevarlo a una cierta potencia del numero 2. En el caso que vemos arriba, 1 << 2 es lo mismo que decir (1 * 2^2) = 4"
   ]
  },
  {
   "cell_type": "markdown",
   "id": "345802a9",
   "metadata": {},
   "source": [
    "### 25) Realizar la operación 2 + '2' ¿Por qué no está permitido? ¿Si los dos operandos serían del mismo tipo, siempre arrojaría el mismo resultado?"
   ]
  },
  {
   "cell_type": "code",
   "execution_count": 33,
   "id": "2d4650dc",
   "metadata": {},
   "outputs": [
    {
     "ename": "TypeError",
     "evalue": "unsupported operand type(s) for +: 'int' and 'str'",
     "output_type": "error",
     "traceback": [
      "\u001b[0;31m---------------------------------------------------------------------------\u001b[0m",
      "\u001b[0;31mTypeError\u001b[0m                                 Traceback (most recent call last)",
      "Input \u001b[0;32mIn [33]\u001b[0m, in \u001b[0;36m<cell line: 1>\u001b[0;34m()\u001b[0m\n\u001b[0;32m----> 1\u001b[0m \u001b[38;5;241;43m2\u001b[39;49m\u001b[43m \u001b[49m\u001b[38;5;241;43m+\u001b[39;49m\u001b[43m \u001b[49m\u001b[38;5;124;43m'\u001b[39;49m\u001b[38;5;124;43m2\u001b[39;49m\u001b[38;5;124;43m'\u001b[39;49m\n",
      "\u001b[0;31mTypeError\u001b[0m: unsupported operand type(s) for +: 'int' and 'str'"
     ]
    }
   ],
   "source": [
    "2 + '2'"
   ]
  },
  {
   "cell_type": "markdown",
   "id": "b0e76e75",
   "metadata": {},
   "source": [
    "Uno es de tipo numerico mientras que el otro es de tipo string, para que la operacion tenga efecto deben ser ambos del mismo tipo y de esa manera se pueda efectuar una suma o una concatenacion segun sea el caso."
   ]
  },
  {
   "cell_type": "markdown",
   "id": "28f70ec1",
   "metadata": {},
   "source": [
    "### 26) Realizar una operación válida entre valores de tipo entero y string"
   ]
  },
  {
   "cell_type": "code",
   "execution_count": 35,
   "id": "f0bc0b6f",
   "metadata": {},
   "outputs": [
    {
     "data": {
      "text/plain": [
       "'hola hola hola '"
      ]
     },
     "execution_count": 35,
     "metadata": {},
     "output_type": "execute_result"
    }
   ],
   "source": [
    "'hola '*3"
   ]
  }
 ],
 "metadata": {
  "kernelspec": {
   "display_name": "Python 3 (ipykernel)",
   "language": "python",
   "name": "python3"
  },
  "language_info": {
   "codemirror_mode": {
    "name": "ipython",
    "version": 3
   },
   "file_extension": ".py",
   "mimetype": "text/x-python",
   "name": "python",
   "nbconvert_exporter": "python",
   "pygments_lexer": "ipython3",
   "version": "3.10.7"
  }
 },
 "nbformat": 4,
 "nbformat_minor": 5
}
