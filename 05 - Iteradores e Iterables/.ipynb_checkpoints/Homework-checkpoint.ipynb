{
 "cells": [
  {
   "cell_type": "markdown",
   "id": "cf927955",
   "metadata": {},
   "source": [
    "# Iteradores e iterables "
   ]
  },
  {
   "cell_type": "markdown",
   "id": "f8a194fc",
   "metadata": {},
   "source": [
    "### 1) A partir de una lista vacía, utilizar un ciclo while para cargar allí números negativos del -15 al -1 "
   ]
  },
  {
   "cell_type": "code",
   "execution_count": 6,
   "id": "0f79f3b2",
   "metadata": {},
   "outputs": [
    {
     "name": "stdout",
     "output_type": "stream",
     "text": [
      "[-15, -14, -13, -12, -11, -10, -9, -8, -7, -6, -5, -4, -3, -2, -1]\n"
     ]
    }
   ],
   "source": [
    "lista = []\n",
    "num = -15\n",
    "while(num < 0):\n",
    "    lista.append(num)\n",
    "    num += 1\n",
    "print(lista)"
   ]
  },
  {
   "cell_type": "markdown",
   "id": "f8130c24",
   "metadata": {},
   "source": [
    "### 2) ¿Con un ciclo while sería posible recorrer la lista para imprimir sólo los números pares? "
   ]
  },
  {
   "cell_type": "code",
   "execution_count": 7,
   "id": "dc088b46",
   "metadata": {},
   "outputs": [
    {
     "name": "stdout",
     "output_type": "stream",
     "text": [
      "-14\n",
      "-12\n",
      "-10\n",
      "-8\n",
      "-6\n",
      "-4\n",
      "-2\n"
     ]
    }
   ],
   "source": [
    "num = 0\n",
    "while(num < len(lista)):\n",
    "    if((lista[num] % 2) == 0):\n",
    "        print(lista[num])\n",
    "    num += 1"
   ]
  },
  {
   "cell_type": "markdown",
   "id": "7d271eb7",
   "metadata": {},
   "source": [
    "### 3) Resolver el punto anterior sin utilizar un ciclo while "
   ]
  },
  {
   "cell_type": "code",
   "execution_count": 8,
   "id": "9ae720dd",
   "metadata": {},
   "outputs": [
    {
     "name": "stdout",
     "output_type": "stream",
     "text": [
      "[-14, -12, -10, -8, -6, -4, -2]\n"
     ]
    }
   ],
   "source": [
    "print([i for i in lista if i % 2 == 0])"
   ]
  },
  {
   "cell_type": "markdown",
   "id": "f37502ca",
   "metadata": {},
   "source": [
    "### 4) Utilizar el iterable para recorrer sólo los primeros 3 elementos "
   ]
  },
  {
   "cell_type": "code",
   "execution_count": 9,
   "id": "72cb4d3e",
   "metadata": {},
   "outputs": [
    {
     "name": "stdout",
     "output_type": "stream",
     "text": [
      "-15\n",
      "-14\n",
      "-13\n"
     ]
    }
   ],
   "source": [
    "for i in lista[:3]:\n",
    "    print(i)"
   ]
  },
  {
   "cell_type": "markdown",
   "id": "5e9736b7",
   "metadata": {},
   "source": [
    "### 5) Utilizar la función **enumerate** para obtener dentro del iterable, tambien el índice al que corresponde el elemento "
   ]
  },
  {
   "cell_type": "code",
   "execution_count": 10,
   "id": "26945651",
   "metadata": {},
   "outputs": [
    {
     "name": "stdout",
     "output_type": "stream",
     "text": [
      "indice: 0 value: -15\n",
      "indice: 1 value: -14\n",
      "indice: 2 value: -13\n",
      "indice: 3 value: -12\n",
      "indice: 4 value: -11\n",
      "indice: 5 value: -10\n",
      "indice: 6 value: -9\n",
      "indice: 7 value: -8\n",
      "indice: 8 value: -7\n",
      "indice: 9 value: -6\n",
      "indice: 10 value: -5\n",
      "indice: 11 value: -4\n",
      "indice: 12 value: -3\n",
      "indice: 13 value: -2\n",
      "indice: 14 value: -1\n"
     ]
    }
   ],
   "source": [
    "for i,v in enumerate(lista):\n",
    "    print('indice:',i,'value:',v)"
   ]
  },
  {
   "cell_type": "markdown",
   "id": "8fff40d6",
   "metadata": {},
   "source": [
    "### 6) Dada la siguiente lista de números enteros entre 1 y 20, crear un ciclo donde se completen los valores faltantes: lista = [1,2,5,7,8,10,13,14,15,17,20] "
   ]
  },
  {
   "cell_type": "code",
   "execution_count": 11,
   "id": "819b4d3a",
   "metadata": {},
   "outputs": [
    {
     "name": "stdout",
     "output_type": "stream",
     "text": [
      "[1, 2, 3, 4, 5, 6, 7, 8, 9, 10, 11, 12, 13, 14, 15, 16, 17, 18, 19, 20]\n"
     ]
    }
   ],
   "source": [
    "lista2 = [1,2,5,7,8,10,13,14,15,17,20]\n",
    "for i,v in enumerate(lista2):\n",
    "    if i+1 == len(lista2):\n",
    "        break\n",
    "    if not (lista2[i+1] == v+1):\n",
    "        lista2.insert(i+1,v+1)\n",
    "        \n",
    "print(lista2)"
   ]
  },
  {
   "cell_type": "markdown",
   "id": "8b6469ff",
   "metadata": {},
   "source": [
    "### 7) La sucesión de Fibonacci es un listado de números que sigue la fórmula: <br>\n",
    "n<sub>0</sub> = 0<br>\n",
    "n<sub>1</sub> = 1<br>\n",
    "n<sub>i</sub> = n<sub>i-1</sub> + n<sub>i-2</sub><br>\n",
    "Crear una lista con los primeros treinta números de la sucesión.<br> "
   ]
  },
  {
   "cell_type": "code",
   "execution_count": 12,
   "id": "6bc97aff",
   "metadata": {},
   "outputs": [
    {
     "name": "stdout",
     "output_type": "stream",
     "text": [
      "[0, 1, 1, 2, 3, 5, 8, 13, 21, 34, 55, 89, 144, 233, 377, 610, 987, 1597, 2584, 4181, 6765, 10946, 17711, 28657, 46368, 75025, 121393, 196418, 317811, 514229]\n"
     ]
    }
   ],
   "source": [
    "fibo = []\n",
    "for i in range(30):\n",
    "    if i == 0 or i == 1:\n",
    "        fibo.append(i)\n",
    "    else:\n",
    "        fibo.append(fibo[-1] + fibo[-2])\n",
    "print(fibo)"
   ]
  },
  {
   "cell_type": "markdown",
   "id": "0a2b1de9",
   "metadata": {},
   "source": [
    "### 8) Realizar la suma de todos elementos de la lista del punto anterior "
   ]
  },
  {
   "cell_type": "code",
   "execution_count": 13,
   "id": "ca13b823",
   "metadata": {},
   "outputs": [
    {
     "data": {
      "text/plain": [
       "1346268"
      ]
     },
     "execution_count": 13,
     "metadata": {},
     "output_type": "execute_result"
    }
   ],
   "source": [
    "sum(fibo)"
   ]
  },
  {
   "cell_type": "markdown",
   "id": "b4b74590",
   "metadata": {},
   "source": [
    "### 9) La proporción aurea se expresa con una proporción matemática que nace el número irracional Phi= 1,618… que los griegos llamaron número áureo. El cuál se puede aproximar con la sucesión de Fibonacci. Con la lista del ejercicio anterior, imprimir el cociente de los últimos 5 pares de dos números contiguos:<br>\n",
    "Donde i es la cantidad total de elementos<br>\n",
    "n<sub>i-1</sub> / n<sub>i</sub><br>\n",
    "n<sub>i-2</sub> / n<sub>i-1</sub><br>\n",
    "n<sub>i-3</sub> / n<sub>i-2</sub><br>\n",
    "n<sub>i-4</sub> / n<sub>i-3</sub><br>\n",
    "n<sub>i-5</sub> / n<sub>i-4</sub><br> "
   ]
  },
  {
   "cell_type": "code",
   "execution_count": 15,
   "id": "cdb3c57a",
   "metadata": {},
   "outputs": [
    {
     "name": "stdout",
     "output_type": "stream",
     "text": [
      "0.6180339887482036\n",
      "0.6180339887543226\n",
      "0.618033988738303\n",
      "0.6180339887802427\n",
      "0.6180339886704432\n"
     ]
    }
   ],
   "source": [
    "for i in range(5):\n",
    "    print(fibo[-2-i]/fibo[-1-i])"
   ]
  },
  {
   "cell_type": "markdown",
   "id": "2987957b",
   "metadata": {},
   "source": [
    "### 10) A partir de la variable cadena ya dada, mostrar en qué posiciones aparece la letra \"n\"<br>\n",
    "cadena = 'Hola Mundo. Esto es una practica del lenguaje de programación Python' "
   ]
  },
  {
   "cell_type": "code",
   "execution_count": 16,
   "id": "df7ca2c3",
   "metadata": {},
   "outputs": [
    {
     "name": "stdout",
     "output_type": "stream",
     "text": [
      "7\n",
      "21\n",
      "39\n",
      "60\n",
      "67\n"
     ]
    }
   ],
   "source": [
    "cadena = 'Hola Mundo. Esto es una practica del lenguaje de programación Python'\n",
    "for i,c in enumerate(cadena):\n",
    "    if c == 'n':\n",
    "        print(i)"
   ]
  },
  {
   "cell_type": "markdown",
   "id": "403001af",
   "metadata": {},
   "source": [
    "### 11) Crear un diccionario e imprimir sus claves utilizando un iterador "
   ]
  },
  {
   "cell_type": "code",
   "execution_count": 17,
   "id": "e06eb851",
   "metadata": {},
   "outputs": [
    {
     "name": "stdout",
     "output_type": "stream",
     "text": [
      "Ciudad\n",
      "Pais\n",
      "Continente\n"
     ]
    }
   ],
   "source": [
    "my_dict = {'Ciudad':'Caracas','Pais':'Venezuela','Continente':'LATAM'}\n",
    "for i in my_dict.keys():\n",
    "    print(i)"
   ]
  },
  {
   "cell_type": "markdown",
   "id": "8a301d72",
   "metadata": {},
   "source": [
    "### 12) Convertir en una lista la variable \"cadena\" del punto 10 y luego recorrerla con un iterador  "
   ]
  },
  {
   "cell_type": "code",
   "execution_count": 19,
   "id": "1486e310",
   "metadata": {},
   "outputs": [
    {
     "name": "stdout",
     "output_type": "stream",
     "text": [
      "H\n",
      "o\n",
      "l\n",
      "a\n",
      " \n",
      "M\n",
      "u\n",
      "n\n",
      "d\n",
      "o\n",
      ".\n",
      " \n",
      "E\n",
      "s\n",
      "t\n",
      "o\n",
      " \n",
      "e\n",
      "s\n",
      " \n",
      "u\n",
      "n\n",
      "a\n",
      " \n",
      "p\n",
      "r\n",
      "a\n",
      "c\n",
      "t\n",
      "i\n",
      "c\n",
      "a\n",
      " \n",
      "d\n",
      "e\n",
      "l\n",
      " \n",
      "l\n",
      "e\n",
      "n\n",
      "g\n",
      "u\n",
      "a\n",
      "j\n",
      "e\n",
      " \n",
      "d\n",
      "e\n",
      " \n",
      "p\n",
      "r\n",
      "o\n",
      "g\n",
      "r\n",
      "a\n",
      "m\n",
      "a\n",
      "c\n",
      "i\n",
      "ó\n",
      "n\n",
      " \n",
      "P\n",
      "y\n",
      "t\n",
      "h\n",
      "o\n",
      "n\n"
     ]
    }
   ],
   "source": [
    "lista_cadena = list(cadena)\n",
    "for i in lista_cadena:\n",
    "    print(i)"
   ]
  },
  {
   "cell_type": "markdown",
   "id": "e52dc2f9",
   "metadata": {},
   "source": [
    "### 13) Crear dos listas y unirlas en una tupla utilizando la función zip "
   ]
  },
  {
   "cell_type": "code",
   "execution_count": 21,
   "id": "7cbdd8fc",
   "metadata": {},
   "outputs": [
    {
     "data": {
      "text/plain": [
       "<zip at 0x7f9561921600>"
      ]
     },
     "execution_count": 21,
     "metadata": {},
     "output_type": "execute_result"
    }
   ],
   "source": [
    "lista3 = ['A','B','C','D','E']\n",
    "lista4 = [1,2,3,4,5]\n",
    "tupla = zip(lista3,lista4)\n",
    "tupla"
   ]
  },
  {
   "cell_type": "markdown",
   "id": "3138dda4",
   "metadata": {},
   "source": [
    "### 14) A partir de la siguiente lista de números, crear una nueva sólo si el número es divisible por 7<br>\n",
    "lis = [18,21,29,32,35,42,56,60,63,71,84,90,91,100] "
   ]
  },
  {
   "cell_type": "code",
   "execution_count": 22,
   "id": "096dedb8",
   "metadata": {},
   "outputs": [
    {
     "data": {
      "text/plain": [
       "[21, 35, 42, 56, 63, 84, 91]"
      ]
     },
     "execution_count": 22,
     "metadata": {},
     "output_type": "execute_result"
    }
   ],
   "source": [
    "lis = [18,21,29,32,35,42,56,60,63,71,84,90,91,100]\n",
    "div_by_seven = [i for i in lis if i % 7 == 0]\n",
    "div_by_seven"
   ]
  },
  {
   "cell_type": "markdown",
   "id": "06bab918",
   "metadata": {},
   "source": [
    "### 15) A partir de la lista de a continuación, contar la cantidad total de elementos que contiene, teniendo en cuenta que un elemento de la lista podría ser otra lista:<br>\n",
    "lis = [[1,2,3,4],'rojo','verde',[True,False,False],['uno','dos','tres']] "
   ]
  },
  {
   "cell_type": "code",
   "execution_count": 29,
   "id": "0d492ee7",
   "metadata": {},
   "outputs": [
    {
     "name": "stdout",
     "output_type": "stream",
     "text": [
      "12\n"
     ]
    }
   ],
   "source": [
    "lis = [[1,2,3,4],'rojo','verde',[True,False,False],['uno','dos','tres']]\n",
    "length = len(lis)\n",
    "for i in lis:\n",
    "    if type(i) == list:\n",
    "        length -= 1\n",
    "        length += len(i)\n",
    "print(length)"
   ]
  },
  {
   "cell_type": "markdown",
   "id": "5e9c4cf1",
   "metadata": {},
   "source": [
    "### 16) Tomar la lista del punto anterior y convertir cada elemento en una lista si no lo es "
   ]
  },
  {
   "cell_type": "code",
   "execution_count": 34,
   "id": "439aeda0",
   "metadata": {},
   "outputs": [
    {
     "name": "stdout",
     "output_type": "stream",
     "text": [
      "[[1, 2, 3, 4], ['r', 'o', 'j', 'o'], ['v', 'e', 'r', 'd', 'e'], [True, False, False], ['uno', 'dos', 'tres']]\n"
     ]
    }
   ],
   "source": [
    "for i,v in enumerate(lis):\n",
    "    if not type(v) == list:\n",
    "        lis.remove(v)\n",
    "        lis.insert(i,list(v))\n",
    "print(lis)"
   ]
  }
 ],
 "metadata": {
  "kernelspec": {
   "display_name": "Python 3 (ipykernel)",
   "language": "python",
   "name": "python3"
  },
  "language_info": {
   "codemirror_mode": {
    "name": "ipython",
    "version": 3
   },
   "file_extension": ".py",
   "mimetype": "text/x-python",
   "name": "python",
   "nbconvert_exporter": "python",
   "pygments_lexer": "ipython3",
   "version": "3.10.7"
  }
 },
 "nbformat": 4,
 "nbformat_minor": 5
}
